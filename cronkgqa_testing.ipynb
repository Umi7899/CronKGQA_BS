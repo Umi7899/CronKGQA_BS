{
 "cells": [
  {
   "cell_type": "code",
   "execution_count": 112,
   "id": "enclosed-manitoba",
   "metadata": {},
   "outputs": [],
   "source": [
    "import argparse\n",
    "from typing import Dict\n",
    "import logging\n",
    "import torch\n",
    "from torch import optim\n",
    "import pickle\n",
    "import numpy as np\n",
    "\n",
    "from qa_models import QA_model, QA_model_Only_Embeddings, QA_model_BERT, QA_model_EaE, QA_model_EmbedKGQA, \\\n",
    "    QA_model_EaE_replace, QA_model_EmbedKGQA_complex\n",
    "from qa_datasets import QA_Dataset, QA_Dataset_model1, QA_Dataset_EaE, QA_Dataset_EmbedKGQA, QA_Dataset_EaE_replace\n",
    "from torch.utils.data import Dataset, DataLoader\n",
    "import utils\n",
    "from tqdm import tqdm\n",
    "from utils import loadTkbcModel, loadTkbcModel_complex\n",
    "from collections import defaultdict\n",
    "from datetime import datetime\n",
    "from collections import OrderedDict\n"
   ]
  },
  {
   "cell_type": "code",
   "execution_count": 113,
   "id": "actual-fellow",
   "metadata": {},
   "outputs": [],
   "source": [
    "import os\n",
    "\n",
    "os.environ[\"CUDA_DEVICE_ORDER\"] = \"PCI_BUS_ID\"  # see issue #152\n",
    "os.environ[\"CUDA_VISIBLE_DEVICES\"] = \"0\"\n"
   ]
  },
  {
   "cell_type": "code",
   "execution_count": 114,
   "id": "8c461967",
   "metadata": {},
   "outputs": [
    {
     "name": "stdout",
     "output_type": "stream",
     "text": [
      "Loading tkbc model from models/wikidata_big/kg_embeddings/tcomplex_17dec.ckpt\n",
      "Number ent,rel,ts from loaded model: 125726 406 9621\n",
      "Loaded tkbc model\n"
     ]
    }
   ],
   "source": [
    "dataset_name = 'wikidata_big'\n",
    "tkbc_model_file = 'tcomplex_17dec.ckpt'\n",
    "tkbc_model = loadTkbcModel_complex('models/{dataset_name}/kg_embeddings/{tkbc_model_file}'.format(\n",
    "    dataset_name=dataset_name, tkbc_model_file=tkbc_model_file\n",
    "))"
   ]
  },
  {
   "cell_type": "code",
   "execution_count": 115,
   "id": "9403789d",
   "metadata": {},
   "outputs": [],
   "source": [
    "class Args:\n",
    "    lm_frozen = 1\n",
    "    frozen = 1\n",
    "\n",
    "    multi_label=0\n",
    "    combine_all_ents = 'None'\n",
    "    attention = False\n",
    "\n",
    "\n",
    "def openFileAsDict(filename):\n",
    "    f = open(filename, 'r', errors='ignore')\n",
    "    out = {}\n",
    "    for line in f:\n",
    "        line = line[:-1].split('\\t')  # can't strip() since name can be whitespace\n",
    "        out[line[0]] = line[1]\n",
    "    return out\n",
    "\n",
    "\n",
    "def convertToDataPoint(question_text, entities, times, answer_type='entity', answers=set()):\n",
    "    question = {}\n",
    "    question['question'] = question_text\n",
    "    #     question['answers'] = answers\n",
    "    question['answers'] = set(['Q888504'])\n",
    "    question['answer_type'] = answer_type\n",
    "    question['entities'] = set(entities)\n",
    "    question['times'] = set(times)\n",
    "    entFile = 'data/wikidata_big/kg/wd_id2entity_text.txt'\n",
    "    id2ent = openFileAsDict(entFile)\n",
    "    paraphrase = question_text\n",
    "    for e in entities:\n",
    "        paraphrase = paraphrase.replace(e, id2ent[e])\n",
    "    question['paraphrases'] = [paraphrase]\n",
    "    return question\n",
    "\n"
   ]
  },
  {
   "cell_type": "code",
   "execution_count": 116,
   "id": "3d7f6124",
   "metadata": {},
   "outputs": [],
   "source": [
    "entFile = './data/wikidata_big/kg/wd_id2entity_text.txt'\n",
    "id2ent = openFileAsDict(entFile)"
   ]
  },
  {
   "cell_type": "code",
   "execution_count": 117,
   "id": "835284b9",
   "metadata": {},
   "outputs": [
    {
     "name": "stdout",
     "output_type": "stream",
     "text": [
      "Freezing LM params\n",
      "Freezing entity/time embeddings\n",
      "Loading model from models/wikidata_big/qa_models/temp.ckpt\n",
      "Loaded qa model from  models/wikidata_big/qa_models/temp.ckpt\n"
     ]
    }
   ],
   "source": [
    "args = Args()\n",
    "qa_model = QA_model_EmbedKGQA(tkbc_model, args)\n",
    "filename = 'models/{dataset_name}/qa_models/{model_file}.ckpt'.format(\n",
    "    dataset_name=dataset_name,\n",
    "    # model_file='embedkgqa_dual_frozen_lm_fix_order_ce'\n",
    "    model_file='temp'\n",
    ")\n",
    "print('Loading model from', filename)\n",
    "qa_model.load_state_dict(torch.load(filename))\n",
    "print('Loaded qa model from ', filename)\n",
    "qa_model = qa_model.cuda()"
   ]
  },
  {
   "cell_type": "code",
   "execution_count": 118,
   "id": "8f953f59",
   "metadata": {},
   "outputs": [
    {
     "name": "stdout",
     "output_type": "stream",
     "text": [
      "Total questions =  30000\n",
      "Preparing data for split valid\n",
      "Total questions =  30000\n",
      "Preparing data for split valid\n"
     ]
    }
   ],
   "source": [
    "valid_dataset = QA_Dataset_EmbedKGQA(split='valid', dataset_name=dataset_name)\n",
    "original_dataset = QA_Dataset_EmbedKGQA(split='valid', dataset_name=dataset_name)"
   ]
  },
  {
   "cell_type": "code",
   "execution_count": 119,
   "id": "af88e88f",
   "metadata": {},
   "outputs": [],
   "source": [
    "def predict(qa_model, dataset, batch_size = 128, split='valid', k=10):\n",
    "    num_workers = 4\n",
    "    qa_model.eval()\n",
    "    eval_log = []\n",
    "    k_for_reporting = k # not change name in fn signature since named param used in places\n",
    "    # k_list = [1, 3, 10]\n",
    "    # k_list = [1, 10]\n",
    "    k_list = [1, 5]\n",
    "    max_k = max(k_list)\n",
    "    eval_log.append(\"Split %s\" % (split))\n",
    "    print('Evaluating split', split)\n",
    "\n",
    "    # id = 13799\n",
    "    ids = [0]\n",
    "    prepared_data = {}\n",
    "    for k, v in dataset.prepared_data.items():\n",
    "        prepared_data[k] = [v[i] for i in ids]\n",
    "    dataset.prepared_data = prepared_data\n",
    "    dataset.data = [dataset.data[i] for i in ids]\n",
    "\n",
    "    # dataset.print_prepared_data()\n",
    "\n",
    "    data_loader = DataLoader(dataset, batch_size=batch_size, shuffle=False, num_workers=num_workers, collate_fn=dataset._collate_fn)\n",
    "    topk_answers = []\n",
    "    topk_scores = []\n",
    "    total_loss = 0\n",
    "    loader = tqdm(data_loader, total=len(data_loader), unit=\"batches\")\n",
    "\n",
    "\n",
    "    for i_batch, a in enumerate(loader):\n",
    "        # if size of split is multiple of batch size, we need this\n",
    "        # todo: is there a more elegant way?\n",
    "        if i_batch * batch_size == len(dataset.data):\n",
    "            break\n",
    "        answers_khot = a[-1] # last one assumed to be target\n",
    "        scores = qa_model.forward(a)\n",
    "        sm = torch.nn.Softmax(dim=1)\n",
    "\n",
    "        scores = sm(scores)\n",
    "        # scores = torch.nn.functional.normalize(scores, p=2, dim=1)\n",
    "\n",
    "        for s in scores:\n",
    "            pred_s, pred = dataset.getAnswersFromScoresWithScores(s, k=max_k)\n",
    "            topk_answers.append(pred)\n",
    "            topk_scores.append(pred_s)\n",
    "        loss = qa_model.loss(scores, answers_khot.cuda().long())\n",
    "        total_loss += loss.item()\n",
    "    eval_log.append('Loss %f' % total_loss)\n",
    "    eval_log.append('Eval batch size %d' % batch_size)\n",
    "\n",
    "    for i in range(len(dataset.data)):\n",
    "        question = dataset.data[i]\n",
    "        predicted_answers = topk_answers[i]\n",
    "        predicted_scores = topk_scores[i]\n",
    "        actual_answers = question['answers']\n",
    "\n",
    "        if question['answer_type'] == 'entity':\n",
    "            actual_answers = [dataset.getEntityToText(x) for x in actual_answers]\n",
    "            pa = []\n",
    "            aa = []\n",
    "            for a in predicted_answers:\n",
    "                if 'Q' in str(a): # TODO: hack to check whether entity or time predicted\n",
    "                    pa.append(dataset.getEntityToText(a))\n",
    "                else:\n",
    "                    pa.append(a)\n",
    "            predicted_answers = pa\n",
    "\n",
    "            for a in actual_answers:\n",
    "                if 'Q' in str(a): # TODO: hack to check whether entity or time predicted\n",
    "                    aa.append(dataset.getEntityToText(a))\n",
    "                else:\n",
    "                    aa.append(a)\n",
    "            actual_answers = aa\n",
    "\n",
    "\n",
    "        # print(question['paraphrases'][0])\n",
    "        # print('Actual answers', actual_answers)\n",
    "        # print('Predicted answers', predicted_answers)\n",
    "        # print()\n",
    "        print(question['paraphrases'][0])\n",
    "        print(question['question'])\n",
    "        answers_with_scores_text = []\n",
    "        for pa, ps in zip(predicted_answers, predicted_scores):\n",
    "            formatted = '{answer} ({score})'.format(answer = pa, score=ps)\n",
    "            answers_with_scores_text.append(formatted)\n",
    "        print('Predicted:', ', '.join(answers_with_scores_text))\n",
    "        print('Actual:', ', '.join([str(x) for x in actual_answers]))\n",
    "        print()\n"
   ]
  },
  {
   "cell_type": "code",
   "execution_count": 120,
   "id": "d7e6634f",
   "metadata": {},
   "outputs": [],
   "source": [
    "def getEntities(question_text):\n",
    "    words = question_text.split(' ')\n",
    "    entities = []\n",
    "    for word in words:\n",
    "        if word[0] == 'Q': # TODO: hack\n",
    "            entities.append(word)\n",
    "    return entities"
   ]
  },
  {
   "cell_type": "code",
   "execution_count": 140,
   "id": "3a7c8853",
   "metadata": {},
   "outputs": [
    {
     "name": "stdout",
     "output_type": "stream",
     "text": [
      "Evaluating split valid\n"
     ]
    },
    {
     "name": "stderr",
     "output_type": "stream",
     "text": [
      "100%|██████████| 1/1 [00:07<00:00,  7.05s/batches]"
     ]
    },
    {
     "name": "stdout",
     "output_type": "stream",
     "text": [
      "The team which Martin Peters played for in 1972 was\n",
      "The team which Q505028 played for in 1972 was\n",
      "Predicted: Kingdom of Hungary (0.08478637039661407), Kingdom of France (0.032511934638023376), Sheffield United F.C. (0.0291510708630085), Ottoman Empire (0.014648595824837685), Kingdom of Bohemia (0.009740407578647137)\n",
      "Actual: Bobby Clarke\n",
      "\n"
     ]
    },
    {
     "name": "stderr",
     "output_type": "stream",
     "text": [
      "\n"
     ]
    }
   ],
   "source": [
    "question_text = 'What is the name of the first team that Q1487425 was part of'\n",
    "entities = getEntities(question_text)\n",
    "times = []\n",
    "dataPoint = convertToDataPoint(question_text, entities, times)\n",
    "data = [dataPoint]\n",
    "valid_dataset.data = data\n",
    "valid_dataset.prepared_data = valid_dataset.prepare_data_(data)\n",
    "# print(valid_dataset[:100])\n",
    "predict(qa_model, valid_dataset)"
   ]
  },
  {
   "cell_type": "code",
   "execution_count": 122,
   "id": "616bfc9e",
   "metadata": {},
   "outputs": [
    {
     "data": {
      "text/plain": "'A.C. Milan'"
     },
     "execution_count": 122,
     "metadata": {},
     "output_type": "execute_result"
    }
   ],
   "source": [
    "id2ent['Q1543']"
   ]
  },
  {
   "cell_type": "code",
   "execution_count": 123,
   "id": "d3deaed3",
   "metadata": {},
   "outputs": [
    {
     "data": {
      "text/plain": "[{'question': 'When did Q5220937 play their first game',\n  'answers': {1997},\n  'answer_type': 'time',\n  'template': 'When did {head} play their first game',\n  'entities': {'Q5220937'},\n  'times': set(),\n  'relations': {'P54'},\n  'type': 'first_last',\n  'annotation': {'head': 'Q5220937', 'adj': 'first'},\n  'uniq_id': 3015,\n  'paraphrases': ['When did Danny Williams play their first game']},\n {'question': \"Who last held Q30524718's position\",\n  'answers': {'Q10652',\n   'Q14948811',\n   'Q153454',\n   'Q16190632',\n   'Q16190712',\n   'Q16934040',\n   'Q17180679',\n   'Q17306267',\n   'Q180589',\n   'Q18211142',\n   'Q18921442',\n   'Q189947',\n   'Q197894',\n   'Q19831',\n   'Q19871785',\n   'Q19871819',\n   'Q19871931',\n   'Q19874405',\n   'Q19874642',\n   'Q19880278',\n   'Q19882875',\n   'Q19882967',\n   'Q19883117',\n   'Q19956858',\n   'Q19957769',\n   'Q19957802',\n   'Q19957992',\n   'Q19979355',\n   'Q19979409',\n   'Q20054083',\n   'Q20055561',\n   'Q20127929',\n   'Q20128115',\n   'Q20647738',\n   'Q20647740',\n   'Q20647855',\n   'Q20648332',\n   'Q20648385',\n   'Q216594',\n   'Q232639',\n   'Q234182',\n   'Q24668273',\n   'Q251095',\n   'Q258088',\n   'Q258473',\n   'Q258586',\n   'Q258963',\n   'Q259359',\n   'Q259361',\n   'Q259423',\n   'Q259601',\n   'Q259646',\n   'Q259895',\n   'Q259935',\n   'Q260013',\n   'Q260111',\n   'Q260429',\n   'Q260489',\n   'Q260546',\n   'Q260618',\n   'Q260631',\n   'Q260651',\n   'Q260772',\n   'Q261214',\n   'Q261553',\n   'Q261675',\n   'Q261773',\n   'Q261900',\n   'Q262040',\n   'Q262201',\n   'Q262409',\n   'Q262539',\n   'Q262616',\n   'Q262742',\n   'Q262931',\n   'Q263076',\n   'Q263147',\n   'Q263166',\n   'Q263243',\n   'Q263299',\n   'Q263350',\n   'Q263508',\n   'Q263653',\n   'Q263802',\n   'Q263923',\n   'Q263969',\n   'Q264220',\n   'Q264305',\n   'Q264365',\n   'Q264477',\n   'Q264560',\n   'Q264585',\n   'Q264618',\n   'Q264662',\n   'Q264684',\n   'Q264720',\n   'Q264766',\n   'Q264827',\n   'Q264964',\n   'Q265028',\n   'Q265140',\n   'Q265900',\n   'Q265935',\n   'Q266078',\n   'Q266146',\n   'Q266189',\n   'Q266238',\n   'Q266357',\n   'Q266793',\n   'Q266978',\n   'Q267105',\n   'Q267234',\n   'Q267485',\n   'Q267648',\n   'Q268030',\n   'Q268196',\n   'Q268465',\n   'Q268584',\n   'Q269005',\n   'Q269124',\n   'Q269322',\n   'Q269449',\n   'Q269638',\n   'Q269697',\n   'Q269853',\n   'Q269868',\n   'Q269909',\n   'Q269940',\n   'Q270009',\n   'Q271715',\n   'Q271800',\n   'Q271889',\n   'Q272008',\n   'Q272041',\n   'Q272098',\n   'Q272123',\n   'Q272155',\n   'Q272201',\n   'Q272234',\n   'Q272259',\n   'Q272288',\n   'Q272346',\n   'Q272408',\n   'Q272452',\n   'Q272569',\n   'Q272829',\n   'Q27942399',\n   'Q285183',\n   'Q285249',\n   'Q285975',\n   'Q286043',\n   'Q290474',\n   'Q290554',\n   'Q290855',\n   'Q291057',\n   'Q291169',\n   'Q291303',\n   'Q291393',\n   'Q291441',\n   'Q291470',\n   'Q291502',\n   'Q291557',\n   'Q291591',\n   'Q291615',\n   'Q291683',\n   'Q296716',\n   'Q296797',\n   'Q296866',\n   'Q296920',\n   'Q300004',\n   'Q300023',\n   'Q300049',\n   'Q300107',\n   'Q300142',\n   'Q300243',\n   'Q300269',\n   'Q300292',\n   'Q300368',\n   'Q302036',\n   'Q302187',\n   'Q302244',\n   'Q302309',\n   'Q302417',\n   'Q302486',\n   'Q302546',\n   'Q302620',\n   'Q302815',\n   'Q302939',\n   'Q303253',\n   'Q303299',\n   'Q303351',\n   'Q303411',\n   'Q303577',\n   'Q303814',\n   'Q303883',\n   'Q304027',\n   'Q304095',\n   'Q304172',\n   'Q304251',\n   'Q304388',\n   'Q304450',\n   'Q306169',\n   'Q306250',\n   'Q327716',\n   'Q327823',\n   'Q328641',\n   'Q328682',\n   'Q328737',\n   'Q328769',\n   'Q328791',\n   'Q328892',\n   'Q332336',\n   'Q332374',\n   'Q332493',\n   'Q332954',\n   'Q332979',\n   'Q332987',\n   'Q332994',\n   'Q333012',\n   'Q333261',\n   'Q333267',\n   'Q333283',\n   'Q333480',\n   'Q333493',\n   'Q333520',\n   'Q333533',\n   'Q333670',\n   'Q333680',\n   'Q333714',\n   'Q333852',\n   'Q333937',\n   'Q334261',\n   'Q334296',\n   'Q334339',\n   'Q337453',\n   'Q337568',\n   'Q3377178',\n   'Q337720',\n   'Q337812',\n   'Q3409354',\n   'Q3409441',\n   'Q3411409',\n   'Q3412180',\n   'Q341511',\n   'Q341570',\n   'Q389677',\n   'Q389855',\n   'Q390192',\n   'Q390549',\n   'Q390611',\n   'Q390690',\n   'Q390756',\n   'Q390760',\n   'Q390794',\n   'Q390849',\n   'Q390869',\n   'Q390949',\n   'Q390983',\n   'Q391073',\n   'Q391094',\n   'Q391141',\n   'Q391169',\n   'Q391222',\n   'Q391256',\n   'Q391300',\n   'Q391341',\n   'Q391437',\n   'Q391465',\n   'Q391483',\n   'Q391520',\n   'Q391526',\n   'Q391605',\n   'Q391652',\n   'Q391792',\n   'Q391839',\n   'Q391960',\n   'Q391986',\n   'Q392000',\n   'Q392064',\n   'Q392174',\n   'Q392216',\n   'Q392367',\n   'Q392375',\n   'Q393751',\n   'Q477464',\n   'Q4775602',\n   'Q478161',\n   'Q478248',\n   'Q478276',\n   'Q478305',\n   'Q478345',\n   'Q478387',\n   'Q478442',\n   'Q478531',\n   'Q478596',\n   'Q478686',\n   'Q478702',\n   'Q478711',\n   'Q478714',\n   'Q479064',\n   'Q479171',\n   'Q480092',\n   'Q480132',\n   'Q480148',\n   'Q480184',\n   'Q501860',\n   'Q501926',\n   'Q501942',\n   'Q5220520',\n   'Q5242429',\n   'Q534727',\n   'Q5479812',\n   'Q5528262',\n   'Q5541308',\n   'Q574896',\n   'Q574980',\n   'Q574991',\n   'Q575183',\n   'Q575205',\n   'Q575239',\n   'Q575266',\n   'Q575452',\n   'Q575462',\n   'Q575493',\n   'Q575513',\n   'Q575593',\n   'Q575733',\n   'Q575881',\n   'Q576121',\n   'Q576195',\n   'Q576208',\n   'Q576537',\n   'Q577024',\n   'Q577227',\n   'Q577362',\n   'Q577771',\n   'Q578037',\n   'Q578234',\n   'Q578432',\n   'Q580086',\n   'Q580247',\n   'Q580375',\n   'Q580431',\n   'Q580464',\n   'Q580784',\n   'Q581095',\n   'Q583571',\n   'Q583750',\n   'Q583946',\n   'Q615077',\n   'Q6205412',\n   'Q6383803',\n   'Q6698469',\n   'Q673322',\n   'Q673628',\n   'Q673854',\n   'Q676383',\n   'Q676658',\n   'Q676947',\n   'Q6838584',\n   'Q688913',\n   'Q689041',\n   'Q689166',\n   'Q689239',\n   'Q689287',\n   'Q689348',\n   'Q689421',\n   'Q689514',\n   'Q689546',\n   'Q689589',\n   'Q689627',\n   'Q689660',\n   'Q691064',\n   'Q691299',\n   'Q692315',\n   'Q694676',\n   'Q694695',\n   'Q694759',\n   'Q694869',\n   'Q694881',\n   'Q694967',\n   'Q694984',\n   'Q694996',\n   'Q695007',\n   'Q695028',\n   'Q695047',\n   'Q695197',\n   'Q695228',\n   'Q695241',\n   'Q727276',\n   'Q727347',\n   'Q727587',\n   'Q727798',\n   'Q727852',\n   'Q727933',\n   'Q728063',\n   'Q728167',\n   'Q7380182',\n   'Q7422176',\n   'Q748837',\n   'Q748955',\n   'Q749612',\n   'Q749659',\n   'Q749687',\n   'Q749759',\n   'Q749980',\n   'Q750061',\n   'Q750091',\n   'Q750135',\n   'Q750161',\n   'Q750179',\n   'Q750188',\n   'Q750204',\n   'Q750219',\n   'Q750260',\n   'Q750345',\n   'Q750381',\n   'Q750411',\n   'Q750421',\n   'Q7609085',\n   'Q7613711',\n   'Q7815715',\n   'Q7831699',\n   'Q7852071',\n   'Q9670'},\n  'answer_type': 'entity',\n  'template': \"Who last held {tail}'s position\",\n  'entities': {'Q30524718'},\n  'times': set(),\n  'relations': {'P39'},\n  'type': 'first_last',\n  'annotation': {'tail': 'Q30524718', 'adj': 'last'},\n  'uniq_id': 8695,\n  'paraphrases': [\"Who last held Member of the 56th Parliament of the United Kingdom's position\"]},\n {'question': 'Q18810062 in 1460',\n  'answers': {'Q160337'},\n  'answer_type': 'entity',\n  'template': '{tail} in {time}',\n  'entities': {'Q18810062'},\n  'times': {1460},\n  'relations': {'P39'},\n  'type': 'simple_entity',\n  'annotation': {'tail': 'Q18810062', 'time': '1460'},\n  'uniq_id': 9349,\n  'paraphrases': ['King of England in 1460']}]"
     },
     "execution_count": 123,
     "metadata": {},
     "output_type": "execute_result"
    }
   ],
   "source": [
    "original_dataset.data[7:10]"
   ]
  },
  {
   "cell_type": "code",
   "execution_count": 123,
   "id": "24c57238",
   "metadata": {},
   "outputs": [],
   "source": []
  },
  {
   "cell_type": "code",
   "execution_count": 123,
   "id": "0a0d7b13",
   "metadata": {},
   "outputs": [],
   "source": []
  },
  {
   "cell_type": "code",
   "execution_count": 123,
   "id": "4ef49966",
   "metadata": {},
   "outputs": [],
   "source": []
  },
  {
   "cell_type": "code",
   "execution_count": 124,
   "id": "4f42a8ca",
   "metadata": {},
   "outputs": [
    {
     "data": {
      "text/plain": "{'question_text': ['What year was Andrea Russotto playing in S.S.C. Napoli'],\n 'head': [43265],\n 'tail': [47556],\n 'time': [125726],\n 'answers_arr': [[120143]]}"
     },
     "execution_count": 124,
     "metadata": {},
     "output_type": "execute_result"
    }
   ],
   "source": [
    "valid_dataset.prepared_data"
   ]
  },
  {
   "cell_type": "code",
   "execution_count": 125,
   "id": "d1faa43c",
   "metadata": {},
   "outputs": [
    {
     "data": {
      "text/plain": "dict_keys(['question_text', 'head', 'tail', 'time', 'answers_arr'])"
     },
     "execution_count": 125,
     "metadata": {},
     "output_type": "execute_result"
    }
   ],
   "source": [
    "original_dataset.prepared_data.keys()"
   ]
  },
  {
   "cell_type": "code",
   "execution_count": 126,
   "id": "bbd8e65c",
   "metadata": {},
   "outputs": [
    {
     "data": {
      "text/plain": "{'question': 'What was the award that was awarded to Q980677 for the first time ever',\n 'answers': {'Q1967210'},\n 'answer_type': 'entity',\n 'template': 'What was the award that was awarded to {head} for the first time ever',\n 'entities': {'Q980677'},\n 'times': set(),\n 'relations': {'P166'},\n 'type': 'first_last',\n 'annotation': {'head': 'Q980677', 'adj': 'first'},\n 'uniq_id': 28188,\n 'paraphrases': ['What was the award that was awarded to Lage Raho Munna Bhai for the first time ever']}"
     },
     "execution_count": 126,
     "metadata": {},
     "output_type": "execute_result"
    }
   ],
   "source": [
    "original_dataset.data[0]"
   ]
  },
  {
   "cell_type": "code",
   "execution_count": 127,
   "id": "ec8c9b3d",
   "metadata": {},
   "outputs": [
    {
     "data": {
      "text/plain": "124930"
     },
     "execution_count": 127,
     "metadata": {},
     "output_type": "execute_result"
    }
   ],
   "source": [
    "original_dataset.prepared_data['head'][0]"
   ]
  },
  {
   "cell_type": "code",
   "execution_count": 128,
   "id": "0c34ec44",
   "metadata": {},
   "outputs": [
    {
     "data": {
      "text/plain": "124930"
     },
     "execution_count": 128,
     "metadata": {},
     "output_type": "execute_result"
    }
   ],
   "source": [
    "original_dataset.prepared_data['tail'][0]"
   ]
  },
  {
   "cell_type": "code",
   "execution_count": 129,
   "id": "4d3f99d5",
   "metadata": {},
   "outputs": [
    {
     "data": {
      "text/plain": "125726"
     },
     "execution_count": 129,
     "metadata": {},
     "output_type": "execute_result"
    }
   ],
   "source": [
    "original_dataset.prepared_data['time'][0]"
   ]
  },
  {
   "cell_type": "code",
   "execution_count": 130,
   "id": "281a9876",
   "metadata": {},
   "outputs": [
    {
     "data": {
      "text/plain": "[32445]"
     },
     "execution_count": 130,
     "metadata": {},
     "output_type": "execute_result"
    }
   ],
   "source": [
    "original_dataset.prepared_data['answers_arr'][0]"
   ]
  }
 ],
 "metadata": {
  "kernelspec": {
   "display_name": "Python 3 (ipykernel)",
   "language": "python",
   "name": "python3"
  },
  "language_info": {
   "codemirror_mode": {
    "name": "ipython",
    "version": 3
   },
   "file_extension": ".py",
   "mimetype": "text/x-python",
   "name": "python",
   "nbconvert_exporter": "python",
   "pygments_lexer": "ipython3",
   "version": "3.8.16"
  }
 },
 "nbformat": 4,
 "nbformat_minor": 5
}
